{
 "cells": [
  {
   "cell_type": "markdown",
   "id": "c0a59e7a",
   "metadata": {},
   "source": [
    "# MODELO CLASSIFICATÓRIO "
   ]
  },
  {
   "cell_type": "markdown",
   "id": "69b9fd21",
   "metadata": {},
   "source": [
    "importando as bibliotecas necessárias"
   ]
  },
  {
   "cell_type": "code",
   "execution_count": 21,
   "id": "a9679160",
   "metadata": {},
   "outputs": [],
   "source": [
    "import pandas as pd\n",
    "from sklearn import datasets\n",
    "from sklearn.metrics import confusion_matrix\n",
    "from sklearn.model_selection import train_test_split\n",
    "from sklearn.neighbors import KNeighborsClassifier\n",
    "from sklearn.svm import SVC\n",
    "import numpy as np"
   ]
  },
  {
   "cell_type": "markdown",
   "id": "4975ac63",
   "metadata": {},
   "source": [
    " ### Fazendo a leitura dos dados e filtragem dos dados\n"
   ]
  },
  {
   "cell_type": "markdown",
   "id": "b57a67df",
   "metadata": {},
   "source": [
    "Selecionaremos a quantidade de cômodos e quantidade de camas para prever o tipo de acomodação"
   ]
  },
  {
   "cell_type": "code",
   "execution_count": 26,
   "id": "66af296d",
   "metadata": {
    "scrolled": true
   },
   "outputs": [
    {
     "data": {
      "text/html": [
       "<div>\n",
       "<style scoped>\n",
       "    .dataframe tbody tr th:only-of-type {\n",
       "        vertical-align: middle;\n",
       "    }\n",
       "\n",
       "    .dataframe tbody tr th {\n",
       "        vertical-align: top;\n",
       "    }\n",
       "\n",
       "    .dataframe thead th {\n",
       "        text-align: right;\n",
       "    }\n",
       "</style>\n",
       "<table border=\"1\" class=\"dataframe\">\n",
       "  <thead>\n",
       "    <tr style=\"text-align: right;\">\n",
       "      <th></th>\n",
       "      <th>accommodates</th>\n",
       "      <th>beds</th>\n",
       "      <th>room_type</th>\n",
       "    </tr>\n",
       "  </thead>\n",
       "  <tbody>\n",
       "    <tr>\n",
       "      <th>0</th>\n",
       "      <td>5</td>\n",
       "      <td>2.0</td>\n",
       "      <td>Entire home/apt</td>\n",
       "    </tr>\n",
       "    <tr>\n",
       "      <th>1</th>\n",
       "      <td>2</td>\n",
       "      <td>1.0</td>\n",
       "      <td>Entire home/apt</td>\n",
       "    </tr>\n",
       "    <tr>\n",
       "      <th>2</th>\n",
       "      <td>2</td>\n",
       "      <td>2.0</td>\n",
       "      <td>Entire home/apt</td>\n",
       "    </tr>\n",
       "    <tr>\n",
       "      <th>3</th>\n",
       "      <td>2</td>\n",
       "      <td>1.0</td>\n",
       "      <td>Entire home/apt</td>\n",
       "    </tr>\n",
       "    <tr>\n",
       "      <th>4</th>\n",
       "      <td>2</td>\n",
       "      <td>1.0</td>\n",
       "      <td>Entire home/apt</td>\n",
       "    </tr>\n",
       "    <tr>\n",
       "      <th>...</th>\n",
       "      <td>...</td>\n",
       "      <td>...</td>\n",
       "      <td>...</td>\n",
       "    </tr>\n",
       "    <tr>\n",
       "      <th>23630</th>\n",
       "      <td>6</td>\n",
       "      <td>3.0</td>\n",
       "      <td>Entire home/apt</td>\n",
       "    </tr>\n",
       "    <tr>\n",
       "      <th>23631</th>\n",
       "      <td>4</td>\n",
       "      <td>2.0</td>\n",
       "      <td>Entire home/apt</td>\n",
       "    </tr>\n",
       "    <tr>\n",
       "      <th>23632</th>\n",
       "      <td>8</td>\n",
       "      <td>6.0</td>\n",
       "      <td>Entire home/apt</td>\n",
       "    </tr>\n",
       "    <tr>\n",
       "      <th>23633</th>\n",
       "      <td>6</td>\n",
       "      <td>6.0</td>\n",
       "      <td>Entire home/apt</td>\n",
       "    </tr>\n",
       "    <tr>\n",
       "      <th>23634</th>\n",
       "      <td>4</td>\n",
       "      <td>2.0</td>\n",
       "      <td>Entire home/apt</td>\n",
       "    </tr>\n",
       "  </tbody>\n",
       "</table>\n",
       "<p>23407 rows × 3 columns</p>\n",
       "</div>"
      ],
      "text/plain": [
       "       accommodates  beds        room_type\n",
       "0                 5   2.0  Entire home/apt\n",
       "1                 2   1.0  Entire home/apt\n",
       "2                 2   2.0  Entire home/apt\n",
       "3                 2   1.0  Entire home/apt\n",
       "4                 2   1.0  Entire home/apt\n",
       "...             ...   ...              ...\n",
       "23630             6   3.0  Entire home/apt\n",
       "23631             4   2.0  Entire home/apt\n",
       "23632             8   6.0  Entire home/apt\n",
       "23633             6   6.0  Entire home/apt\n",
       "23634             4   2.0  Entire home/apt\n",
       "\n",
       "[23407 rows x 3 columns]"
      ]
     },
     "execution_count": 26,
     "metadata": {},
     "output_type": "execute_result"
    }
   ],
   "source": [
    "df = pd.read_csv('listings.csv', sep = ',') # fazendo a leitura dos dados\n",
    "new_dataframe = df[[ 'accommodates', 'beds', 'room_type',]]  #escolhendo as features que iremos trabalhar\n",
    "case_df = new_dataframe.dropna() #removendo dados onde alguma das iformações seja inexistente\n",
    "case_df"
   ]
  },
  {
   "cell_type": "markdown",
   "id": "25a88850",
   "metadata": {},
   "source": [
    "Criaremos então um índice classificatório para o modelo"
   ]
  },
  {
   "cell_type": "code",
   "execution_count": 27,
   "id": "e7eee42b",
   "metadata": {},
   "outputs": [
    {
     "data": {
      "text/html": [
       "<div>\n",
       "<style scoped>\n",
       "    .dataframe tbody tr th:only-of-type {\n",
       "        vertical-align: middle;\n",
       "    }\n",
       "\n",
       "    .dataframe tbody tr th {\n",
       "        vertical-align: top;\n",
       "    }\n",
       "\n",
       "    .dataframe thead th {\n",
       "        text-align: right;\n",
       "    }\n",
       "</style>\n",
       "<table border=\"1\" class=\"dataframe\">\n",
       "  <thead>\n",
       "    <tr style=\"text-align: right;\">\n",
       "      <th></th>\n",
       "      <th>accommodates</th>\n",
       "      <th>beds</th>\n",
       "      <th>room_type</th>\n",
       "      <th>idx_room_type</th>\n",
       "    </tr>\n",
       "  </thead>\n",
       "  <tbody>\n",
       "    <tr>\n",
       "      <th>0</th>\n",
       "      <td>5</td>\n",
       "      <td>2.0</td>\n",
       "      <td>Entire home/apt</td>\n",
       "      <td>0</td>\n",
       "    </tr>\n",
       "    <tr>\n",
       "      <th>1</th>\n",
       "      <td>2</td>\n",
       "      <td>1.0</td>\n",
       "      <td>Entire home/apt</td>\n",
       "      <td>0</td>\n",
       "    </tr>\n",
       "    <tr>\n",
       "      <th>2</th>\n",
       "      <td>2</td>\n",
       "      <td>2.0</td>\n",
       "      <td>Entire home/apt</td>\n",
       "      <td>0</td>\n",
       "    </tr>\n",
       "    <tr>\n",
       "      <th>3</th>\n",
       "      <td>2</td>\n",
       "      <td>1.0</td>\n",
       "      <td>Entire home/apt</td>\n",
       "      <td>0</td>\n",
       "    </tr>\n",
       "    <tr>\n",
       "      <th>4</th>\n",
       "      <td>2</td>\n",
       "      <td>1.0</td>\n",
       "      <td>Entire home/apt</td>\n",
       "      <td>0</td>\n",
       "    </tr>\n",
       "    <tr>\n",
       "      <th>...</th>\n",
       "      <td>...</td>\n",
       "      <td>...</td>\n",
       "      <td>...</td>\n",
       "      <td>...</td>\n",
       "    </tr>\n",
       "    <tr>\n",
       "      <th>23630</th>\n",
       "      <td>6</td>\n",
       "      <td>3.0</td>\n",
       "      <td>Entire home/apt</td>\n",
       "      <td>0</td>\n",
       "    </tr>\n",
       "    <tr>\n",
       "      <th>23631</th>\n",
       "      <td>4</td>\n",
       "      <td>2.0</td>\n",
       "      <td>Entire home/apt</td>\n",
       "      <td>0</td>\n",
       "    </tr>\n",
       "    <tr>\n",
       "      <th>23632</th>\n",
       "      <td>8</td>\n",
       "      <td>6.0</td>\n",
       "      <td>Entire home/apt</td>\n",
       "      <td>0</td>\n",
       "    </tr>\n",
       "    <tr>\n",
       "      <th>23633</th>\n",
       "      <td>6</td>\n",
       "      <td>6.0</td>\n",
       "      <td>Entire home/apt</td>\n",
       "      <td>0</td>\n",
       "    </tr>\n",
       "    <tr>\n",
       "      <th>23634</th>\n",
       "      <td>4</td>\n",
       "      <td>2.0</td>\n",
       "      <td>Entire home/apt</td>\n",
       "      <td>0</td>\n",
       "    </tr>\n",
       "  </tbody>\n",
       "</table>\n",
       "<p>23407 rows × 4 columns</p>\n",
       "</div>"
      ],
      "text/plain": [
       "       accommodates  beds        room_type  idx_room_type\n",
       "0                 5   2.0  Entire home/apt              0\n",
       "1                 2   1.0  Entire home/apt              0\n",
       "2                 2   2.0  Entire home/apt              0\n",
       "3                 2   1.0  Entire home/apt              0\n",
       "4                 2   1.0  Entire home/apt              0\n",
       "...             ...   ...              ...            ...\n",
       "23630             6   3.0  Entire home/apt              0\n",
       "23631             4   2.0  Entire home/apt              0\n",
       "23632             8   6.0  Entire home/apt              0\n",
       "23633             6   6.0  Entire home/apt              0\n",
       "23634             4   2.0  Entire home/apt              0\n",
       "\n",
       "[23407 rows x 4 columns]"
      ]
     },
     "execution_count": 27,
     "metadata": {},
     "output_type": "execute_result"
    }
   ],
   "source": [
    "indx = {'Entire home/apt' : 0,'Hotel room' : 1, 'Private room' : 2, 'Shared room' : 3} # classificando os tipos de quartos\n",
    "\n",
    "column_idx = case_df['room_type'].map(indx) # criando uma nova coluna com os indices\n",
    "\n",
    "case_df_indx =  case_df.assign(idx_room_type = column_idx) #criando um novo dataframe com a nova coluna \n",
    "\n",
    "case_df_indx"
   ]
  },
  {
   "cell_type": "markdown",
   "id": "2f4080fe",
   "metadata": {},
   "source": [
    "### Separando os dados para treinos e teste "
   ]
  },
  {
   "cell_type": "code",
   "execution_count": 28,
   "id": "734a80e9",
   "metadata": {
    "scrolled": false
   },
   "outputs": [],
   "source": [
    "train, test = train_test_split(case_df_indx, train_size=0.8) # 80% para treino / 20% para teste\n",
    "\n",
    "X_train = np.array(train.iloc[:,0:2])\n",
    "X_test = np.array(test.iloc[:,0:2])\n",
    "y_train = np.array(train['idx_room_type'])\n",
    "y_test = np.array(test['idx_room_type'])"
   ]
  },
  {
   "cell_type": "markdown",
   "id": "183e681f",
   "metadata": {},
   "source": [
    "### Treinando o modelo KNN (k-nearest neighbors) classifier"
   ]
  },
  {
   "cell_type": "markdown",
   "id": "b9a8cabf",
   "metadata": {
    "scrolled": false
   },
   "source": [
    "Para este tipo de dado, o qual a classificação não é binária, usaremos então ao modelo de classificação KNN (k-nearest neighbors), vamos considerando o valor de K variando de 1 a 10 e sua respectivas acurácia."
   ]
  },
  {
   "cell_type": "code",
   "execution_count": 36,
   "id": "123e354c",
   "metadata": {
    "scrolled": true
   },
   "outputs": [
    {
     "name": "stdout",
     "output_type": "stream",
     "text": [
      "Para K = 1 Acurácia do modelo KNN: 0.74263135412217\n",
      "Para K = 2 Acurácia do modelo KNN: 0.7729602733874412\n",
      "Para K = 3 Acurácia do modelo KNN: 0.7753096967108073\n",
      "Para K = 4 Acurácia do modelo KNN: 0.7761640324647586\n",
      "Para K = 5 Acurácia do modelo KNN: 0.7642033319094405\n",
      "Para K = 6 Acurácia do modelo KNN: 0.7556599743699274\n",
      "Para K = 7 Acurácia do modelo KNN: 0.7543784707390004\n",
      "Para K = 8 Acurácia do modelo KNN: 0.7558735583084152\n",
      "Para K = 9 Acurácia do modelo KNN: 0.7558735583084152\n",
      "Para K = 10 Acurácia do modelo KNN: 0.7774455360956856\n"
     ]
    }
   ],
   "source": [
    "for k in range(1,11):\n",
    "    knn = KNeighborsClassifier(n_neighbors = k).fit(X_train, y_train.ravel()) \n",
    "    accuracy_knn = knn.score(X_test, y_test)\n",
    "    print ('Para K = %s Acurácia do modelo KNN: %s' %(k, accuracy_knn))"
   ]
  }
 ],
 "metadata": {
  "kernelspec": {
   "display_name": "Python 3 (ipykernel)",
   "language": "python",
   "name": "python3"
  },
  "language_info": {
   "codemirror_mode": {
    "name": "ipython",
    "version": 3
   },
   "file_extension": ".py",
   "mimetype": "text/x-python",
   "name": "python",
   "nbconvert_exporter": "python",
   "pygments_lexer": "ipython3",
   "version": "3.9.13"
  }
 },
 "nbformat": 4,
 "nbformat_minor": 5
}
